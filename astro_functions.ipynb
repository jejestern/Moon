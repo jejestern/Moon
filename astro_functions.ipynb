{
 "cells": [
  {
   "cell_type": "code",
   "execution_count": 1,
   "metadata": {
    "collapsed": true
   },
   "outputs": [],
   "source": [
    "import numpy as np\n",
    "import matplotlib.pyplot as plt\n",
    "%matplotlib notebook\n",
    "import matplotlib as mpl\n",
    "mpl.rcParams['figure.figsize'] = 10, 10\n",
    "from matplotlib.pyplot import imshow\n",
    "from numpy.linalg import norm\n",
    "import rawpy\n",
    "import PIL\n",
    "from uncertainties import unumpy as unp\n",
    "from uncertainties import ufloat\n",
    "from uncertainties.umath import *\n",
    "\n",
    "#dummyvalues\n",
    "r_mond=1737000. #r_mond in meter\n",
    "pixerr=10"
   ]
  },
  {
   "cell_type": "code",
   "execution_count": 2,
   "metadata": {
    "collapsed": true
   },
   "outputs": [],
   "source": [
    "#calculating the norm for arrays consisting of ufloat\n",
    "def normunc(x):\n",
    "    y=x**2\n",
    "    #return unumpy.sqrt(sum(y))\n",
    "    return sqrt(sum(y))\n",
    "\n",
    "def arccosunc(x):\n",
    "    yn=np.arccos(x.n)\n",
    "    ys=np.abs(1/np.sqrt(1-x.n**2)*x.s)\n",
    "    return ufloat(yn, ys)\n",
    "\n",
    "def arcsinunc(x):\n",
    "    yn=np.arcsin(x.n)\n",
    "    ys=np.abs(1/np.sqrt(1-x.n**2)*x.s)\n",
    "    return ufloat(yn, ys)"
   ]
  },
  {
   "cell_type": "markdown",
   "metadata": {},
   "source": [
    "Function to find the radius of the Moon in pixels via Sekanten-Verfahren"
   ]
  },
  {
   "cell_type": "code",
   "execution_count": 4,
   "metadata": {
    "collapsed": true
   },
   "outputs": [],
   "source": [
    "R= lambda theta: np.array([[np.cos(theta), -np.sin(theta)],\n",
    "                          [np.sin(theta), np.cos(theta)]])\n",
    "\n",
    "def mittelsenkrechte(XX,YY):\n",
    "    '''\n",
    "    Input: XX, YY: x- und y-coordinates of the two points\n",
    "    Output: center point of the center and a vector along the perpendicular bisector (Mittelsenkrechte)\n",
    "    #Output: The funktion which describes the perpendicular bisector as f(t)=vec1+t*vec2\n",
    "    '''\n",
    "    R90=R(np.pi*.5)\n",
    "    koord1=np.array([XX[0],YY[0]])\n",
    "    koord2=np.array([XX[1], YY[1]])\n",
    "    mitte=0.5*(koord1+koord2)\n",
    "    verbindung=koord2-koord1\n",
    "    mitte_vec=np.dot(R90,verbindung)\n",
    "    mitte_vec/=normunc(mitte_vec)\n",
    "    return mitte, mitte_vec\n",
    "    #return lambda t: mitte+t*mitte_vec\n",
    "\n",
    "def schnittpunkt(m1, v1, m2, v2):\n",
    "    #Finds t & s for the intersection point of the two lines m1+t*v1 und m2+s*v2\n",
    "    m=m1-m2\n",
    "    A=np.array([-v1,v2]).T\n",
    "    return np.linalg.solve(A,m)\n",
    "\n",
    "def schnittpunktunc(m1, v1, m2, v2):\n",
    "    #Finds t & s for the intersection point of the two lines m1+t*v1 und m2+s*v2 with uncertainties\n",
    "    m=m1-m2\n",
    "    A=np.array([-v1,v2]).T\n",
    "    K,G=m[0],m[1]\n",
    "    a,b=A[0,0],A[0,1]\n",
    "    c,d=A[1,0],A[1,1]\n",
    "    x=G/(c-d*a/b)\n",
    "    y=(K-a*x)/b\n",
    "    return np.array([x,y])\n",
    "\n",
    "def radius_finder(XX_werte, YY_werte):\n",
    "    '''\n",
    "    This function finds the radius of the Moon in Pixels via Sekanten\n",
    "    Input: X_values, Y_values: x- and y- coordinates of the Sekanten endpoints\n",
    "    Output: radius: Radius of the Moon in pixels\n",
    "            circle center: The middle point of the Moon\n",
    "    '''\n",
    "    radius=0\n",
    "    nx=len(XX_werte)\n",
    "    if nx!=len(YY_werte):\n",
    "        print('Mistake')\n",
    "        return 0\n",
    "    ax=[]; ay=[]\n",
    "    for i in range(nx):\n",
    "        ax.append(ufloat(XX_werte[i], pixerr))\n",
    "        ay.append(ufloat(YY_werte[i], pixerr))\n",
    "    X_werte=np.array(ax)\n",
    "    Y_werte=np.array(ay)\n",
    "    mitte1,vec1=mittelsenkrechte(X_werte[:2], Y_werte[:2])\n",
    "    mitte2,vec2=mittelsenkrechte(X_werte[round(nx*0.5-0.2):], Y_werte[round(nx*0.5-0.2):])\n",
    "    #t=schnittpunkt(mitte1, vec1, mitte2, vec2)\n",
    "    t=schnittpunktunc(mitte1, vec1, mitte2, vec2)\n",
    "    kreismittelpunkt=(mitte1+t[0]*vec1+mitte2+t[1]*vec2)*0.5\n",
    "    for i in range(nx):\n",
    "        radius+=normunc(np.array([X_werte[i], Y_werte[i]])-kreismittelpunkt)\n",
    "    return radius/nx, kreismittelpunkt"
   ]
  },
  {
   "cell_type": "markdown",
   "metadata": {
    "collapsed": true
   },
   "source": [
    "We define a coordinate system. The following function calculates the coordinates of any point you have selected in the overview image."
   ]
  },
  {
   "cell_type": "code",
   "execution_count": 5,
   "metadata": {
    "collapsed": true
   },
   "outputs": [],
   "source": [
    "'''\n",
    "    Calculation of the coordinate system:\n",
    "    Our coordinate system is defined by the connection line of the two shadow ends and their perpendicular bisector.\n",
    "    pixerr : The error which occurs through the selection of the points by hand.\n",
    "'''\n",
    "XY1=np.array([ufloat(1539.35, pixerr), ufloat(5752.34, pixerr)])   #The endpoint of the shadow line below\n",
    "XY2=np.array([ufloat(3699.66, pixerr), ufloat(509.084, pixerr)])    #The endpoint of the shadow line above\n",
    "\n",
    "origin = .5*(XY1+XY2)\n",
    "a_y=origin\n",
    "b_y=(XY2-XY1)\n",
    "a_x=origin\n",
    "b_x=np.array([XY1[1]-XY2[1], XY2[0]-XY1[0]])\n",
    "\n",
    "x_axis = lambda t: a_x + t*b_x    # x-axis (Senkrechte auf Verbindungsgerade)\n",
    "y_axis = lambda t: a_y + t*b_y    # y-axis (Verbindungsgerade)\n",
    "\n",
    "\n",
    "def coordinates(x,y):\n",
    "    \n",
    "    '''\n",
    "        Input: pixel-coordinates of the marked point\n",
    "        Output: coordinates of the point in our coordinate system\n",
    "    '''\n",
    "\n",
    "    p = np.array([ufloat(x, pixerr), ufloat(y, pixerr)])\n",
    "\n",
    "    t = (b_y[1]*(p[0]-a_x[0]) + b_y[0]*(a_x[1]-p[1]))/(b_x[0]*b_y[1] - b_x[1]*b_y[0])\n",
    "    t_tilde = (a_x[1] + t*b_x[1] - p[1])/b_y[1]\n",
    "\n",
    "    x_coord = x_axis(t) - a_x\n",
    "    x_coord = (x_coord[0]**2 + x_coord[1]**2)**(.5)\n",
    "    if unp.nominal_values(t)<0:\n",
    "        x_coord=-x_coord\n",
    "\n",
    "    y_coord = p-x_axis(t)\n",
    "    y_coord = (y_coord[0]**2 + y_coord[1]**2)**(.5)\n",
    "    if unp.nominal_values(t_tilde)>0:\n",
    "        y_coord = -y_coord\n",
    "\n",
    "    return x_coord, y_coord"
   ]
  },
  {
   "cell_type": "markdown",
   "metadata": {},
   "source": [
    "The following box calculates Beta-Doppelstrich (angle between y-axis and shadow line). Beta = Beta-Strich + Beta-Doppelstrich"
   ]
  },
  {
   "cell_type": "code",
   "execution_count": 6,
   "metadata": {},
   "outputs": [
    {
     "name": "stdout",
     "output_type": "stream",
     "text": [
      "rad:  0.266405305489\n",
      "deg:  15.2638996444\n"
     ]
    }
   ],
   "source": [
    "''' \n",
    "    The reference point on the shadow line was choosen to be at (-779.5894216038151, 1.8338318595135774)\n",
    "'''\n",
    "x=abs(-779.5894216038151)    # Distance Origin-shadowborder at the hight of the x-axis\n",
    "r_moon=2935.0    # calculated with radius finder, the value has an uncertainty of +/-9\n",
    "beta_const = 2*np.arcsin(x/(2*r_moon))\n",
    "print('rad: ',beta_const)\n",
    "print('deg: ',360/(2*np.pi)*beta_const)"
   ]
  },
  {
   "cell_type": "markdown",
   "metadata": {},
   "source": [
    "We calculate Beta from Beta-Strich and Beta-Doppelstrich. Where Beta-Strich can be found on the figures in the report. "
   ]
  },
  {
   "cell_type": "code",
   "execution_count": 7,
   "metadata": {},
   "outputs": [],
   "source": [
    "beta_strichstrich = beta_const\n",
    "def betafinder(crater_bild, Rad_pixel_jpg=2935.0):\n",
    "    '''\n",
    "        Finds beta-strich from the figure and the hight in meters (H_mess) of the crater\n",
    "        crater_bild are the coordinates of the crater\n",
    "    '''\n",
    "    hoehe=crater_bild[1]; breite=crater_bild[0] \n",
    "    r_strich=sqrt(Rad_pixel_jpg**2-hoehe**2)\n",
    "    val=breite/r_strich\n",
    "    if np.abs(val)>=0.999: val=val/abs(val)\n",
    "    beta_strich=arcsinunc(val)\n",
    "    return beta_strich+beta_strichstrich, hoehe*r_mond/Rad_pixel_jpg"
   ]
  },
  {
   "cell_type": "markdown",
   "metadata": {},
   "source": [
    "We get 4 points (first two for the diameter and the other two for the shadow) and calculate with those informations the real diameter and depth of the crater."
   ]
  },
  {
   "cell_type": "code",
   "execution_count": 9,
   "metadata": {},
   "outputs": [],
   "source": [
    "def infos_crater_unc_ver2(XX_init,YY_init, beta, Phi, H_mess, Rad_pixel):\n",
    "    pixeltometer = r_mond/Rad_pixel\n",
    "    #H_mess must have an uncertainty!!\n",
    "    XX=np.array([ufloat(XX_init[0], pixerr), ufloat(XX_init[1], pixerr), ufloat(XX_init[2], pixerr), ufloat(XX_init[3], pixerr)])\n",
    "    YY=np.array([ufloat(YY_init[0], pixerr), ufloat(YY_init[1], pixerr), ufloat(YY_init[2], pixerr), ufloat(YY_init[3], pixerr)])\n",
    "    coord=np.array([XX,YY])\n",
    "    s_mess=normunc(coord[:,3]-coord[:,2])*pixeltometer\n",
    "    D_mess=normunc(coord[:,1]-coord[:,0])*pixeltometer\n",
    "    theta=arccosunc(H_mess/r_mond)#small phi in report\n",
    "    D_real=D_mess/sin(theta)\n",
    "    h=s_mess/sin(Phi)*sin(beta)\n",
    "    return D_real, h\n",
    "\n",
    "X=np.array([1,0,-1,3])\n",
    "Y=np.array([0,1,0,3])\n"
   ]
  },
  {
   "cell_type": "code",
   "execution_count": null,
   "metadata": {
    "collapsed": true
   },
   "outputs": [],
   "source": []
  }
 ],
 "metadata": {
  "kernelspec": {
   "display_name": "Python 3",
   "language": "python",
   "name": "python3"
  },
  "language_info": {
   "codemirror_mode": {
    "name": "ipython",
    "version": 3
   },
   "file_extension": ".py",
   "mimetype": "text/x-python",
   "name": "python",
   "nbconvert_exporter": "python",
   "pygments_lexer": "ipython3",
   "version": "3.5.3"
  }
 },
 "nbformat": 4,
 "nbformat_minor": 2
}
