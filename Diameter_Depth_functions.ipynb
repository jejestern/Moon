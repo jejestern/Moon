{
 "cells": [
  {
   "cell_type": "markdown",
   "metadata": {},
   "source": [
    "This file contains the functions needed for Diameter_Depth_20mm and Diameter_Depth_12mm."
   ]
  },
  {
   "cell_type": "code",
   "execution_count": 1,
   "metadata": {
    "collapsed": true
   },
   "outputs": [],
   "source": [
    "import numpy as np\n",
    "import matplotlib.pyplot as plt\n",
    "%matplotlib notebook\n",
    "import matplotlib as mpl\n",
    "mpl.rcParams['figure.figsize'] = 10, 10\n",
    "from matplotlib.pyplot import imshow\n",
    "from numpy.linalg import norm\n",
    "import rawpy\n",
    "import PIL\n",
    "from uncertainties import unumpy as unp\n",
    "from uncertainties import ufloat\n",
    "from uncertainties.umath import *\n",
    "\n",
    "#dummyvalues\n",
    "r_mond=1737000. #r_mond in meter\n",
    "pixerr=10"
   ]
  },
  {
   "cell_type": "code",
   "execution_count": 3,
   "metadata": {
    "collapsed": true
   },
   "outputs": [],
   "source": [
    "#calculating the norm for arrays consisting of ufloat\n",
    "def normunc(x):\n",
    "    y=x**2\n",
    "    #return unumpy.sqrt(sum(y))\n",
    "    return sqrt(sum(y))\n",
    "\n",
    "def arccosunc(x):\n",
    "    yn=np.arccos(x.n)\n",
    "    ys=np.abs(1/np.sqrt(1-x.n**2)*x.s)\n",
    "    return ufloat(yn, ys)\n",
    "\n",
    "def arcsinunc(x):\n",
    "    yn=np.arcsin(x.n)\n",
    "    ys=np.abs(1/np.sqrt(1-x.n**2)*x.s)\n",
    "    return ufloat(yn, ys)"
   ]
  },
  {
   "cell_type": "markdown",
   "metadata": {},
   "source": [
    "We know calculate Beta-Doppelstrich (angle between y-axis and shadowline) and then we calculate Beta = Beta-Strich + Beta-Doppelstrich. The definition of Beta-Strich can be found on the prictures in the proposal. We have as an input the coordinates of the craters and the diameter length and shadow length in pixels. "
   ]
  },
  {
   "cell_type": "code",
   "execution_count": 4,
   "metadata": {},
   "outputs": [
    {
     "name": "stdout",
     "output_type": "stream",
     "text": [
      "rad:  0.266405305489\n",
      "deg:  15.2638996444\n"
     ]
    }
   ],
   "source": [
    "''' \n",
    "    Referenzpunkt auf Schattenlinie wurde ausgewählt bei (-779.5894216038151, 1.8338318595135774)\n",
    "'''\n",
    "x=abs(-779.5894216038151)    # Abstand Origin-Schattengrenze auf Höhe der x-Achse\n",
    "r_moon=2935.0    # berechnet mit radius_finder mit Fehler von +/-9\n",
    "beta_strichstrich = 2*np.arcsin(x/(2*r_moon))\n",
    "print('rad: ',beta_strichstrich)\n",
    "print('deg: ',360/(2*np.pi)*beta_strichstrich)"
   ]
  },
  {
   "cell_type": "code",
   "execution_count": 5,
   "metadata": {
    "collapsed": true
   },
   "outputs": [],
   "source": [
    "def betafinder(crater_bild, Rad_pixel_jpg=2935.0):\n",
    "    '''\n",
    "        Findet beta strich auf skizze und hoehe in meter (H_mess) des kraters\n",
    "        crater_bild, mitte_bild sind pixelkoordinaten von Krater und Mondmitte\n",
    "    '''\n",
    "    hoehe=crater_bild[1]; breite=crater_bild[0] \n",
    "    r_strich=sqrt(Rad_pixel_jpg**2-hoehe**2)\n",
    "    val=breite/r_strich\n",
    "    if np.abs(val)>=0.999: val=val/abs(val)\n",
    "    beta_strich=arcsinunc(val)\n",
    "    return beta_strich+beta_strichstrich, hoehe*r_mond/Rad_pixel_jpg"
   ]
  },
  {
   "cell_type": "markdown",
   "metadata": {
    "collapsed": true
   },
   "source": [
    "The following function calculates the real diameter and depth of the crater given the crater diameter and shadow length in pixels. Also given Beta, Phi (see proposal) and the factor which converts pixel to meter (pixtometer)."
   ]
  },
  {
   "cell_type": "code",
   "execution_count": 7,
   "metadata": {
    "collapsed": true
   },
   "outputs": [],
   "source": [
    "def diameter_depth(diameter_pix, shadow_pix, beta, Phi, H_mess, pixeltometer):\n",
    "    #H_mess muss Fehlerbehaftet sein!!\n",
    "    s_mess=shadow_pix*pixeltometer\n",
    "    D_mess=diameter_pix*pixeltometer\n",
    "    theta=arccosunc(H_mess/r_mond)#klein phi in proposal\n",
    "    D_real=D_mess/sin(theta)\n",
    "    depth=s_mess/sin(Phi)*sin(beta)\n",
    "    return D_real, depth"
   ]
  },
  {
   "cell_type": "code",
   "execution_count": null,
   "metadata": {
    "collapsed": true
   },
   "outputs": [],
   "source": []
  }
 ],
 "metadata": {
  "kernelspec": {
   "display_name": "Python 3",
   "language": "python",
   "name": "python3"
  },
  "language_info": {
   "codemirror_mode": {
    "name": "ipython",
    "version": 3
   },
   "file_extension": ".py",
   "mimetype": "text/x-python",
   "name": "python",
   "nbconvert_exporter": "python",
   "pygments_lexer": "ipython3",
   "version": "3.5.3"
  }
 },
 "nbformat": 4,
 "nbformat_minor": 2
}
