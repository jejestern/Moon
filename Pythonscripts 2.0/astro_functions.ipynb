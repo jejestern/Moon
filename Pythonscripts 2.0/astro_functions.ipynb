{
 "cells": [
  {
   "cell_type": "code",
   "execution_count": 1,
   "metadata": {
    "collapsed": true
   },
   "outputs": [],
   "source": [
    "import numpy as np\n",
    "import matplotlib.pyplot as plt\n",
    "%matplotlib notebook\n",
    "import matplotlib as mpl\n",
    "mpl.rcParams['figure.figsize'] = 10, 10\n",
    "from matplotlib.pyplot import imshow\n",
    "from numpy.linalg import norm\n",
    "import rawpy\n",
    "import PIL\n",
    "\n",
    "#dummyvalues\n",
    "r_mond=3000. #r_mond in meter"
   ]
  },
  {
   "cell_type": "markdown",
   "metadata": {},
   "source": [
    "Function to find the radius of the moon in pixel via Sekanten-Verfahren"
   ]
  },
  {
   "cell_type": "code",
   "execution_count": 2,
   "metadata": {
    "collapsed": true
   },
   "outputs": [],
   "source": [
    "R= lambda theta: np.array([[np.cos(theta), -np.sin(theta)],\n",
    "                          [np.sin(theta), np.cos(theta)]])\n",
    "\n",
    "def mittelsenkrechte(XX,YY):\n",
    "    '''\n",
    "    Input: XX, YY: x- und y-koordinaten der zwei Punkte\n",
    "    Output: mittelpunkt und vektor entlang mittelsenkrechte\n",
    "    #Output: Funktion die mittelsenkrechte bechreibt als f(t)=vec1+t*vec2\n",
    "    '''\n",
    "    R90=R(np.pi*.5)\n",
    "    koord1=np.array([XX[0],YY[0]])\n",
    "    koord2=np.array([XX[1], YY[1]])\n",
    "    mitte=0.5*(koord1+koord2)\n",
    "    verbindung=koord2-koord1\n",
    "    mitte_vec=np.dot(R90,verbindung)\n",
    "    mitte_vec/=norm(mitte_vec)\n",
    "    return mitte, mitte_vec\n",
    "    #return lambda t: mitte+t*mitte_vec\n",
    "\n",
    "def schnittpunkt(m1, v1, m2, v2):\n",
    "    #findet t&s für den Schnittpunkt der geraden m1+t*v1 und m2+s*v2\n",
    "    m=m1-m2\n",
    "    A=np.array([-v1,v2]).T\n",
    "    return np.linalg.solve(A,m)\n",
    "\n",
    "def radius_finder(X_werte, Y_werte):\n",
    "    '''\n",
    "    Findet Radius des Mondes in Pixeln, via Sekanten\n",
    "    Input: X_werte, Y_werte: x- und y- Koordinaten der Sekanten-Endpunkte\n",
    "    Output: radius: Radius des Mondes in Pixeln\n",
    "            kreismittelpunkt: Mittelpunkt des Mondes\n",
    "    '''\n",
    "    radius=0\n",
    "    nx=len(X_werte)\n",
    "    if nx!=len(Y_werte):\n",
    "        print('Fehler')\n",
    "        return 0\n",
    "    \n",
    "    mitte1,vec1=mittelsenkrechte(X_werte[:2], Y_werte[:2])\n",
    "    mitte2,vec2=mittelsenkrechte(X_werte[round(nx*0.5-0.2):], Y_werte[round(nx*0.5-0.2):])\n",
    "    t=schnittpunkt(mitte1, vec1, mitte2, vec2)\n",
    "    kreismittelpunkt=(mitte1+t[0]*vec1+mitte2+t[1]*vec2)*0.5\n",
    "    \n",
    "    for i in range(nx):\n",
    "        radius+=norm(np.array([X_werte[i], Y_werte[i]])-kreismittelpunkt)\n",
    "    return radius/nx, kreismittelpunkt"
   ]
  },
  {
   "cell_type": "markdown",
   "metadata": {},
   "source": [
    "Funktion mit der man das Beta auf der Skizzen (Proposal, Whatsapp Chat) finden kann"
   ]
  },
  {
   "cell_type": "code",
   "execution_count": 3,
   "metadata": {
    "collapsed": true
   },
   "outputs": [],
   "source": [
    "def betafinder(crater_bild, mitte_bild, unit_vec_laenge, pixeltometer=1):\n",
    "    '''\n",
    "        Findet beta strich auf skizze und hoehe in meter (H_mess) des kraters\n",
    "        crater_bild, mitte_bild sind pixelkoordinaten von Krater und Mondmitte\n",
    "        unit_vec_laenge ist pixel vektor entlang Nullmeridian, Schatten 'links' vom Vektor,\n",
    "        muss nicht zwingend normiert sein.\n",
    "    '''\n",
    "    unit_vec_laenge=unit_vec_laenge/norm(unit_vec_laenge)\n",
    "    unit_vec_breite=np.array([unit_vec_laenge[1],-unit_vec_laenge[0]])\n",
    "    transformmatrix=np.array([unit_vec_laenge,unit_vec_breite]).T\n",
    "    crater=crater_bild-mitte_bild\n",
    "    relative_coord=np.linalg.solve(transformmatrix, crater)\n",
    "    #print(relative_coord)\n",
    "    hoehe=relative_coord[0]; breite=relative_coord[1] \n",
    "    r_strich=np.sqrt(r_mond**2-(hoehe*pixeltometer)**2)\n",
    "    \n",
    "    beta_strich=np.arcsin(breite*pixeltometer/r_strich)\n",
    "    return beta_strich, hoehe*pixeltometer"
   ]
  },
  {
   "cell_type": "markdown",
   "metadata": {},
   "source": [
    "Given three points (begin crater, begin shadow, end shadow/crater) we calculate the real diameter and height."
   ]
  },
  {
   "cell_type": "code",
   "execution_count": 4,
   "metadata": {
    "collapsed": true
   },
   "outputs": [],
   "source": [
    "def infos_crater(XX,YY, beta, Phi, H_mess, pixeltometer=1):\n",
    "    coord=np.array([XX,YY])\n",
    "    s_mess=norm(coord[:,2]-coord[:,1])*pixeltometer\n",
    "    D_mess=norm(coord[:,2]-coord[:,0])*pixeltometer\n",
    "    theta=np.arccos(H_mess/r_mond)#klein phi in proposal\n",
    "    D_real=D_mess/np.sin(theta)\n",
    "    h=s_mess/np.sin(Phi)*sin(beta)\n",
    "    return D_real, h"
   ]
  },
  {
   "cell_type": "code",
   "execution_count": null,
   "metadata": {
    "collapsed": true
   },
   "outputs": [],
   "source": []
  }
 ],
 "metadata": {
  "kernelspec": {
   "display_name": "Python 3",
   "language": "python",
   "name": "python3"
  },
  "language_info": {
   "codemirror_mode": {
    "name": "ipython",
    "version": 3
   },
   "file_extension": ".py",
   "mimetype": "text/x-python",
   "name": "python",
   "nbconvert_exporter": "python",
   "pygments_lexer": "ipython3",
   "version": "3.5.3"
  }
 },
 "nbformat": 4,
 "nbformat_minor": 2
}
